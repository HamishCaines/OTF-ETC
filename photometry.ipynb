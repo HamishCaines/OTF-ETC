{
 "cells": [
  {
   "cell_type": "code",
   "execution_count": 31,
   "metadata": {},
   "outputs": [],
   "source": [
    "import sewpy\n",
    "from astroquery.simbad import Simbad\n",
    "import numpy as np\n",
    "from astropy import units as u\n",
    "from astropy.coordinates import SkyCoord"
   ]
  },
  {
   "cell_type": "code",
   "execution_count": 8,
   "metadata": {},
   "outputs": [],
   "source": [
    "sew = sewpy.SEW(params=['X_IMAGE','Y_IMAGE','FLUX_APER(3)','FWHM_WORLD','ALPHA_J2000','DELTA_J2000','FLUX_BEST'],\n",
    "                config={'DETECT_MINAREA':10, 'PHOT_APERTURES':'5, 10, 20'},\n",
    "                sexpath='sex')"
   ]
  },
  {
   "cell_type": "code",
   "execution_count": 53,
   "metadata": {},
   "outputs": [
    {
     "data": {
      "text/plain": [
       "114.09934166666665"
      ]
     },
     "execution_count": 53,
     "metadata": {},
     "output_type": "execute_result"
    }
   ],
   "source": [
    "custom_sim = Simbad()\n",
    "#Simbad.list_votable_fields()\n",
    "custom_sim.add_votable_fields('coordinates')\n",
    "simdata = custom_sim.query_object('ngc2442')\n",
    "raw_ra = simdata['RA'][0]\n",
    "\n",
    "raw_dec = simdata['DEC'][0]\n",
    "\n",
    "c = SkyCoord(raw_ra,raw_dec, unit=(u.hourangle,u.deg))\n",
    "ra = c.ra.deg\n",
    "dec = c.dec.deg\n",
    "ra"
   ]
  },
  {
   "cell_type": "code",
   "execution_count": 41,
   "metadata": {},
   "outputs": [
    {
     "name": "stderr",
     "output_type": "stream",
     "text": [
      "Output catalog /tmp/sewpy_workdir_scmpjh62/ngc2442_1.cat.txt already exists, I will overwrite it\n"
     ]
    }
   ],
   "source": [
    "sewdata = sew('ngc2442_1.fits')\n",
    "sewtable = sewdata['table']"
   ]
  },
  {
   "cell_type": "code",
   "execution_count": 60,
   "metadata": {},
   "outputs": [
    {
     "data": {
      "text/plain": [
       "(0.0012682666666421483, 0.0714732777777698)"
      ]
     },
     "execution_count": 60,
     "metadata": {},
     "output_type": "execute_result"
    }
   ],
   "source": [
    "sewtable = sewdata['table']\n",
    "ra_column = sewtable['ALPHA_J2000']\n",
    "dec_column = sewtable['DELTA_J2000']\n",
    "\n",
    "ra_index = (np.abs(ra_column - ra)).argmin()\n",
    "dec_index = (np.abs(dec_column - dec)).argmin()\n",
    "ra_offset = np.abs(ra_column[dec_index]-ra)\n",
    "dec_offset = np.abs(dec_column[ra_index]-dec)\n",
    "ra_offset, dec_offset #take lowest? need to test for star"
   ]
  },
  {
   "cell_type": "code",
   "execution_count": null,
   "metadata": {},
   "outputs": [],
   "source": []
  }
 ],
 "metadata": {
  "kernelspec": {
   "display_name": "Python 3",
   "language": "python",
   "name": "python3"
  },
  "language_info": {
   "codemirror_mode": {
    "name": "ipython",
    "version": 3
   },
   "file_extension": ".py",
   "mimetype": "text/x-python",
   "name": "python",
   "nbconvert_exporter": "python",
   "pygments_lexer": "ipython3",
   "version": "3.6.5"
  }
 },
 "nbformat": 4,
 "nbformat_minor": 2
}
