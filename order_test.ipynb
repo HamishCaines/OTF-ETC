{
 "cells": [
  {
   "cell_type": "code",
   "execution_count": 1,
   "metadata": {},
   "outputs": [],
   "source": [
    "from astroquery.simbad import Simbad\n",
    "import numpy as np\n",
    "from PyAstronomy import pyasl\n",
    "import scipy.integrate as integ\n",
    "import scipy.stats as stats\n",
    "import matplotlib.pyplot as plt\n",
    "import math"
   ]
  },
  {
   "cell_type": "code",
   "execution_count": 2,
   "metadata": {},
   "outputs": [],
   "source": [
    "target_name = 'Vega'\n",
    "filter_name = 'Sloanr\\''"
   ]
  },
  {
   "cell_type": "code",
   "execution_count": 3,
   "metadata": {},
   "outputs": [],
   "source": [
    "types = np.genfromtxt('colour-temp.txt',unpack=True,usecols=(0),dtype='str')\n",
    "temps = np.genfromtxt('colour-temp.txt',unpack=True,usecols=(1))\n",
    "\n",
    "B_zp = -20.45"
   ]
  },
  {
   "cell_type": "code",
   "execution_count": 4,
   "metadata": {},
   "outputs": [],
   "source": [
    "custom_sim = Simbad()\n",
    "custom_sim.add_votable_fields('flux(B)','sp')\n",
    "\n",
    "data = custom_sim.query_object(target_name)\n",
    "Bmag = data[0]['FLUX_B']\n",
    "Bflux = 10**((B_zp-Bmag)/2.5)"
   ]
  },
  {
   "cell_type": "code",
   "execution_count": 5,
   "metadata": {},
   "outputs": [],
   "source": [
    "filters = ['U','B','V','R','I','J','H','K']\n",
    "centres = [3650,4450,5510,6580,8060,12200,16300,21900]\n",
    "widths = [660,940,880,1380,1490,2130,3070,3900]\n",
    "zeros = [-20.94,-20.45,-21.12,-21.61,-22.27,-23.80,-24.80,-26.00]"
   ]
  },
  {
   "cell_type": "code",
   "execution_count": 9,
   "metadata": {},
   "outputs": [
    {
     "name": "stdout",
     "output_type": "stream",
     "text": [
      "Order: 1 $$\\chi^2$$: Power_divergenceResult(statistic=-0.0024695696780542226, pvalue=1.0)\n",
      "Order: 2 $$\\chi^2$$: Power_divergenceResult(statistic=-0.0022089255623637645, pvalue=1.0)\n",
      "Order: 3 $$\\chi^2$$: Power_divergenceResult(statistic=-0.0017644116998015002, pvalue=1.0)\n",
      "Order: 4 $$\\chi^2$$: Power_divergenceResult(statistic=-0.0009972762935445956, pvalue=1.0)\n",
      "Order: 5 $$\\chi^2$$: Power_divergenceResult(statistic=-0.0007638503409935971, pvalue=1.0)\n"
     ]
    },
    {
     "data": {
      "image/png": "[encoded data removed]",
      "text/plain": [
       "<Figure size 432x288 with 1 Axes>"
      ]
     },
     "metadata": {},
     "output_type": "display_data"
    }
   ],
   "source": [
    "wave = np.arange(10e-10, 25000e-10,10e-10)\n",
    "\n",
    "sp = str(data[0]['SP_TYPE'])[2:4]\n",
    "temp_val = temps[np.where(types == sp+'V')[0][0]]\n",
    "planck = pyasl.planck(temp_val,lam=wave)\n",
    "\n",
    "max_order = 6\n",
    "\n",
    "order = 1\n",
    "while order < max_order:\n",
    "    \n",
    "    alphas=[]\n",
    "\n",
    "    for i in range(0,len(filters)):\n",
    "        band = np.zeros(len(wave))\n",
    "        band_min = (centres[i] - widths[i]/2)*1e-10\n",
    "        band_max = (centres[i] + widths[i]/2)*1e-10\n",
    "        start_index = (np.abs(wave - band_min)).argmin()\n",
    "        end_index = (np.abs(wave - band_max)).argmin()\n",
    "\n",
    "        for j in range(start_index, end_index):\n",
    "            band[j] = 1.0\n",
    "\n",
    "        trans = planck*band\n",
    "        flux = integ.simps(trans, wave, dx=10e-10)\n",
    "\n",
    "        z_calc = 2.5*math.log10(flux)\n",
    "        alpha = zeros[i]/z_calc\n",
    "        #print(filters[i]+': '+str(alpha))\n",
    "        alphas.append(alpha)\n",
    "        \n",
    "    \n",
    "    poly = np.poly1d(np.polyfit(centres,alphas,order))\n",
    "    polyplot = poly(wave*1e10)\n",
    "    chivals = poly(centres)\n",
    "    chisq = stats.chisquare(alphas,chivals)\n",
    "    print('Order: '+str(order)+' $$\\chi^2$$: '+str(chisq))\n",
    "    plt.scatter(centres,alphas)\n",
    "    plt.plot(wave*1e10,polyplot,label=order)\n",
    "    plt.legend()\n",
    "    order += 1\n",
    "    \n",
    "plt.show()"
   ]
  },
  {
   "cell_type": "code",
   "execution_count": null,
   "metadata": {},
   "outputs": [],
   "source": [
    "alphas=[]\n",
    "\n",
    "for i in range(0,len(filters)):\n",
    "    band = np.zeros(len(wave))\n",
    "    band_min = (centres[i] - widths[i]/2)*1e-10\n",
    "    band_max = (centres[i] + widths[i]/2)*1e-10\n",
    "    start_index = (np.abs(wave - band_min)).argmin()\n",
    "    end_index = (np.abs(wave - band_max)).argmin()\n",
    "\n",
    "    for j in range(start_index, end_index):\n",
    "        band[j] = 1.0\n",
    "\n",
    "    trans = planck*band\n",
    "    flux = integ.simps(trans, wave, dx=10e-10)\n",
    "\n",
    "    z_calc = 2.5*math.log10(flux)\n",
    "    alpha = z_actual/z_calc\n",
    "    alphas.append(alpha)\n",
    "poly = np.poly1d(np.polyfit(centres,alphas,order))\n",
    "print(poly)"
   ]
  },
  {
   "cell_type": "code",
   "execution_count": null,
   "metadata": {},
   "outputs": [],
   "source": []
  }
 ],
 "metadata": {
  "kernelspec": {
   "display_name": "Python 3",
   "language": "python",
   "name": "python3"
  },
  "language_info": {
   "codemirror_mode": {
    "name": "ipython",
    "version": 3
   },
   "file_extension": ".py",
   "mimetype": "text/x-python",
   "name": "python",
   "nbconvert_exporter": "python",
   "pygments_lexer": "ipython3",
   "version": "3.6.5"
  }
 },
 "nbformat": 4,
 "nbformat_minor": 2
}
