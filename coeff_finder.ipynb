{
 "cells": [
  {
   "cell_type": "markdown",
   "metadata": {},
   "source": [
    "# Coeff_finder\n",
    "\n",
    "#### Finds the offset between the theoretical flux and measured flux of a given object, using SIMBAD and photometric data respectively\n",
    "\n",
    "Test object must have a spectral type on SIMBAD of format \"XY\" where X is spectral class, and Y is sub-class, for example, G2.\n",
    "\n",
    "Theoretical fluxes are calculated for all filters specified in 'filters.dat', located at '.'. Measured fluxes are carried out for all files within './testfiles/'."
   ]
  },
  {
   "cell_type": "code",
   "execution_count": 1,
   "metadata": {},
   "outputs": [],
   "source": [
    "from astroquery.simbad import Simbad\n",
    "import numpy as np\n",
    "from PyAstronomy import pyasl\n",
    "import scipy.integrate as integ\n",
    "from scipy.stats import norm\n",
    "import matplotlib.pyplot as plt\n",
    "import math\n",
    "from random import gauss\n",
    "import sewpy\n",
    "from astropy.io import fits\n",
    "from os import listdir\n",
    "from astropy.coordinates import SkyCoord\n",
    "from astropy import units as u"
   ]
  },
  {
   "cell_type": "markdown",
   "metadata": {},
   "source": [
    "Specify camera and target name, and .fits file location:"
   ]
  },
  {
   "cell_type": "code",
   "execution_count": 13,
   "metadata": {},
   "outputs": [],
   "source": [
    "camera_name = 'PL09000'\n",
    "target_name = 'LTT1788'\n",
    "directory = './ltt1788-red/'\n",
    "files = listdir(directory)"
   ]
  },
  {
   "cell_type": "markdown",
   "metadata": {},
   "source": [
    "Obtain filters and set site and camera data"
   ]
  },
  {
   "cell_type": "code",
   "execution_count": 14,
   "metadata": {},
   "outputs": [],
   "source": [
    "fcentres, fwidths = np.genfromtxt('filters.dat',unpack=True, usecols=(1,2)) #load filter data from file\n",
    "fnames = np.genfromtxt('filters.dat',unpack=True, usecols=(0), dtype='str').tolist()\n",
    "pixel_width_m = 12 #pixel width in um\n",
    "plate_scale = 0.621 #plate scale in as/um\n",
    "pixel_width_as = pixel_width_m*plate_scale #pixelwidth in as\n",
    "site_seeing = 3 #seeing in as\n",
    "\n",
    "\n",
    "wave = np.arange(10e-10, 25000e-10,10e-10) #initialise wavelength range"
   ]
  },
  {
   "cell_type": "markdown",
   "metadata": {},
   "source": [
    "Define SExtractor values"
   ]
  },
  {
   "cell_type": "code",
   "execution_count": 15,
   "metadata": {},
   "outputs": [],
   "source": [
    "sew = sewpy.SEW(params=['X_IMAGE','Y_IMAGE','FWHM_WORLD','ALPHA_J2000','DELTA_J2000','FLUX_BEST'],\n",
    "                config={'DETECT_MINAREA':20, 'PHOT_APERTURES':'5,10,20,50'},\n",
    "                sexpath='sex')"
   ]
  },
  {
   "cell_type": "markdown",
   "metadata": {},
   "source": [
    "Create Simbad object, and obtain coordinate and B magnitude"
   ]
  },
  {
   "cell_type": "code",
   "execution_count": 16,
   "metadata": {},
   "outputs": [],
   "source": [
    "custom_sim = Simbad()\n",
    "#Simbad.list_votable_fields()\n",
    "custom_sim.add_votable_fields('flux(B)','sp','coordinates') # add desired fields\n",
    "simdata = custom_sim.query_object(target_name) #query SIMBAD\n",
    "#extract coords\n",
    "raw_ra = simdata['RA'][0]\n",
    "raw_dec = simdata['DEC'][0]\n",
    "\n",
    "c = SkyCoord(raw_ra,raw_dec, unit=(u.hourangle,u.deg)) #create SkyCoord object\n",
    "#convert coords to degrees\n",
    "ra = c.ra.deg\n",
    "dec = c.dec.deg\n",
    "Bmag = simdata[0]['FLUX_B']"
   ]
  },
  {
   "cell_type": "markdown",
   "metadata": {},
   "source": [
    "Load spectral type/temp data table from file and specify known standard filter data"
   ]
  },
  {
   "cell_type": "code",
   "execution_count": 17,
   "metadata": {},
   "outputs": [],
   "source": [
    "types = np.genfromtxt('colour-temp.txt',unpack=True,usecols=(0),dtype='str') #load spectral types\n",
    "temps = np.genfromtxt('colour-temp.txt',unpack=True,usecols=(1)) #load corresponding temperatures\n",
    "\n",
    "B_zp = -20.45 #known zero point for B\n",
    "\n",
    "#standard filters, centres, widths, and zero points\n",
    "filters = ['U','B','V','R','I','J','H','K']\n",
    "centres = [3650,4450,5510,6580,8060,12200,16300,21900]\n",
    "widths = [660,940,880,1380,1490,2130,3070,3900]\n",
    "zeros = [-20.94,-20.45,-21.12,-21.61,-22.27,-23.80,-24.80,-26.00]"
   ]
  },
  {
   "cell_type": "markdown",
   "metadata": {},
   "source": [
    "Extract target spectral type, convert to temperatre using data table and define Planck function.\n",
    "\n",
    "Define polynomial that describes proportionality constant between calculated and actual zero points for a range of wavelengths:"
   ]
  },
  {
   "cell_type": "code",
   "execution_count": 18,
   "metadata": {},
   "outputs": [],
   "source": [
    "sp = str(simdata[0]['SP_TYPE'])[2:3]#obtain 2-character spectral type from data table\n",
    "temp_val = temps[np.where(types == sp+'0V')[0][0]]  #convert spectral type to tempterature using lookup table\n",
    "#lookup table only has V spectral classes, so add V as an approximation\n",
    "planck = pyasl.planck(temp_val,lam=wave) #define planck function from temperature\n",
    "\n",
    "alphas=[] #initialise array of alphas\n",
    "order = 3 #order of polynomial to use, determined by analysis in alpha.ipynb\n",
    "for i in range(0,len(filters)): #loop across filters\n",
    "    loop_band = np.zeros(len(wave)) #new zeros\n",
    "    #determine edges of each waveband\n",
    "    loop_band_min = (centres[i] - widths[i]/2)*1e-10 \n",
    "    loop_band_max = (centres[i] + widths[i]/2)*1e-10\n",
    "    #find corresponding indexes\n",
    "    loop_start_index = (np.abs(wave - loop_band_min)).argmin()\n",
    "    loop_end_index = (np.abs(wave - loop_band_max)).argmin()\n",
    "\n",
    "    #set values within indexes to one\n",
    "    for j in range(loop_start_index, loop_end_index):\n",
    "        loop_band[j] = 1.0\n",
    "\n",
    "    loop_trans = planck*loop_band #find transmission in each standard filter\n",
    "    loop_flux = integ.simps(loop_trans, wave, dx=10e-10) #find total flux in each standard filter\n",
    "\n",
    "    z_calc = 2.5*math.log10(loop_flux) #find zero point\n",
    "    new_alpha = zeros[i]/z_calc #find proportionalty between calculated zero and known zero\n",
    "    alphas.append(new_alpha) #add to array\n",
    "poly = np.poly1d(np.polyfit(centres,alphas,order)) #fit polynomial to the alpha values\n"
   ]
  },
  {
   "cell_type": "markdown",
   "metadata": {},
   "source": [
    "Find flux in B band from defined Planck function:"
   ]
  },
  {
   "cell_type": "code",
   "execution_count": 19,
   "metadata": {},
   "outputs": [],
   "source": [
    "Bmid = 4450 #centre\n",
    "Bwidth = 940 #width\n",
    "\n",
    "Bband = np.zeros(len(wave)) #new zeros\n",
    "#find edges of band\n",
    "Bband_min = (Bmid - Bwidth/2)*1e-10\n",
    "Bband_max = (Bmid + Bwidth/2)*1e-10\n",
    "#find corresponding indexes\n",
    "Bstart_index = (np.abs(wave - Bband_min)).argmin()\n",
    "Bend_index = (np.abs(wave - Bband_max)).argmin()\n",
    "\n",
    "#set values within indexes to one\n",
    "for i in range(Bstart_index, Bend_index):\n",
    "    Bband[i] = 1.0\n",
    "    \n",
    "Btrans = planck*Bband #find band transmission\n",
    "Bflux = integ.simps(Btrans, wave, dx=10e-10) #integrate to get flux in band"
   ]
  },
  {
   "cell_type": "markdown",
   "metadata": {},
   "source": [
    "Load CCD efficiency polynomial from file and obtain profile across wavelength range"
   ]
  },
  {
   "cell_type": "code",
   "execution_count": 20,
   "metadata": {},
   "outputs": [],
   "source": [
    "ccd_poly_coef = np.genfromtxt('./CCD-effs/'+camera_name+'.poly',usecols=(1))\n",
    "ccd_poly = np.poly1d(ccd_poly_coef)\n",
    "ccd_res_curve = ccd_poly(wave)"
   ]
  },
  {
   "cell_type": "markdown",
   "metadata": {},
   "source": [
    "Calculate theoretical fluxes in each desired filter band through use of the flux in the B band and filter zero points:"
   ]
  },
  {
   "cell_type": "code",
   "execution_count": 21,
   "metadata": {},
   "outputs": [
    {
     "name": "stdout",
     "output_type": "stream",
     "text": [
      "1.0914277104706379e-15\n"
     ]
    }
   ],
   "source": [
    "#theory_fluxes = [] #initialise array\n",
    "\n",
    "#for i in range(0,len(fcentres)):\n",
    "mid = fcentres\n",
    "wid = fwidths\n",
    "band = np.zeros(len(wave)) #create zeros\n",
    "#determine edges of waveband\n",
    "band_min = (mid - wid/2)*1e-10\n",
    "band_max = (mid + wid/2)*1e-10\n",
    "#find corresponding indexes in array\n",
    "start_index = (np.abs(wave - band_min)).argmin()\n",
    "end_index = (np.abs(wave - band_max)).argmin()\n",
    "\n",
    "#set values within indexes to one\n",
    "for j in range(start_index, end_index):\n",
    "    band[j] = 1.0\n",
    "\n",
    "alpha = poly(mid) #find alpha for given filter centre\n",
    "#print('alpha: '+str(alpha))\n",
    "\n",
    "trans = planck*band #find transmission in given filter\n",
    "flux = integ.simps(trans, wave, dx=10e-10) #find total flux\n",
    "z_calc = 2.5*math.log10(flux) #calculate zero point\n",
    "zp = alpha*z_calc #use correction to obtain actual zero point\n",
    "\n",
    "\n",
    "BfoFf = Bflux/flux #calculate ratio of flux in B and flux in filter\n",
    "Dzp = B_zp - zp #delta zero points\n",
    "Fmag = Bmag + 2.5*math.log10(BfoFf) - Dzp #calcualte magnitude in filter\n",
    "\n",
    "scaled_Fflux = 10**((zp - Fmag)/2.5) #convert to flux\n",
    "    \n",
    "telescope_eff = 0.96*0.96*(1-0.005)\n",
    "flux = scaled_Fflux*telescope_eff\n",
    "\n",
    "telescope_r = 0.305\n",
    "telescope_area = np.pi*telescope_r*telescope_r\n",
    "telescope_obs = 0.47\n",
    "\n",
    "flux = flux*telescope_area*telescope_obs\n",
    "\n",
    "ccd_res_band = ccd_res_curve[start_index:end_index] #create CCD response profile in filter band\n",
    "ccd_res = np.mean(ccd_res_band) #take average value\n",
    "ccd_flux = flux*ccd_res #calculate flux after ccd response\n",
    "\n",
    "total_flux = ccd_flux\n",
    "gauss_amp = total_flux/(2*np.pi*site_seeing*site_seeing) #calculate amplitude of a 2d Gaussian that encloses the total flux\n",
    "def integrand(x, y, A, sigma):\n",
    "    \"\"\"Defines the function of a 2d Gaussian function that encloses the total flux\n",
    "    :param x: x coordinates to be integrated over\n",
    "    :param y: y coordinates to be intagrated over\n",
    "    :param A: amplitude of the Gaussian curve\n",
    "    :param sigma: width of the Gaussian, specified by the site seeing\n",
    "    :return: function of 2d Gaussian\n",
    "    \"\"\"\n",
    "    return A*np.exp(-1/(2*sigma*sigma)*(x*x+y*y))\n",
    "#carry out integral to find total flux on a single pixel\n",
    "I = integ.dblquad(integrand,-pixel_width_as/2,pixel_width_as/2,-pixel_width_as/2,pixel_width_as/2, args=(gauss_amp,site_seeing))[0]\n",
    "print(I)\n",
    "#theory_fluxes.append(I) #add to array\n",
    "theory_flux = I"
   ]
  },
  {
   "cell_type": "markdown",
   "metadata": {},
   "source": [
    "Measure the flux of the target star on a test frame in counts and convert to flux, accounting for CCD efficiency and gain, exposure time of the frame and energy of individual photons:"
   ]
  },
  {
   "cell_type": "code",
   "execution_count": 24,
   "metadata": {},
   "outputs": [
    {
     "name": "stderr",
     "output_type": "stream",
     "text": [
      "Output catalog /tmp/sewpy_workdir__zqcw3qi/2018-10-17T04-02-15_ltt1788_Red_T-25_30s.cat.txt already exists, I will overwrite it\n",
      "Output catalog /tmp/sewpy_workdir__zqcw3qi/2018-10-17T04-07-17_ltt1788_Red_T-25_30s.cat.txt already exists, I will overwrite it\n",
      "Output catalog /tmp/sewpy_workdir__zqcw3qi/2018-10-17T04-04-46_ltt1788_Red_T-25_30s.cat.txt already exists, I will overwrite it\n",
      "Output catalog /tmp/sewpy_workdir__zqcw3qi/2018-10-17T04-03-30_ltt1788_Red_T-25_30s.cat.txt already exists, I will overwrite it\n",
      "Output catalog /tmp/sewpy_workdir__zqcw3qi/2018-10-17T04-06-02_ltt1788_Red_T-25_30s.cat.txt already exists, I will overwrite it\n",
      "Output catalog /tmp/sewpy_workdir__zqcw3qi/2018-10-17T03-37-17_ltt1788_Red_T-25_60s.cat.txt already exists, I will overwrite it\n",
      "Output catalog /tmp/sewpy_workdir__zqcw3qi/2018-10-17T03-40-48_ltt1788_Red_T-25_60s.cat.txt already exists, I will overwrite it\n",
      "Output catalog /tmp/sewpy_workdir__zqcw3qi/2018-10-17T03-39-02_ltt1788_Red_T-25_60s.cat.txt already exists, I will overwrite it\n",
      "Output catalog /tmp/sewpy_workdir__zqcw3qi/2018-10-17T03-35-31_ltt1788_Red_T-25_60s.cat.txt already exists, I will overwrite it\n",
      "Output catalog /tmp/sewpy_workdir__zqcw3qi/2018-10-17T03-42-34_ltt1788_Red_T-25_60s.cat.txt already exists, I will overwrite it\n"
     ]
    }
   ],
   "source": [
    "measured_fluxes =[] #initialise array\n",
    "\n",
    "#loop over all files\n",
    "for file in files:\n",
    "    #run SExtractor and extract table\n",
    "    sewdata = sew(directory+file)\n",
    "    sewtable = sewdata['table']\n",
    "    #extract data columns\n",
    "    flux_column = sewtable['FLUX_BEST']\n",
    "    ra_column = sewtable['ALPHA_J2000']\n",
    "    dec_column = sewtable['DELTA_J2000']\n",
    "    #obtain index of entry with closest coordinates to coordinates form SIMBAD\n",
    "    suitable = np.where(np.logical_and(np.abs(ra_column - ra) < 0.01, np.abs(dec_column - dec) < 0.01))[0]\n",
    "    \n",
    "    #load fits header and obtain exposure time and filter\n",
    "    fits_header = fits.open(directory+file)[0].header\n",
    "    exp_time = fits_header['EXPTIME']\n",
    "    #filt = fits_header['FILTER']\n",
    "    filt = 'r\\''\n",
    "    \n",
    "    filter_index = fnames.index(filt) #find filter index in list\n",
    "    #extract parameters\n",
    "    mid = fcentres\n",
    "    wid = fwidths\n",
    "    fband = np.arange((mid-wid/2)*1e-10, (mid+wid/2)*1e-10, 10e-10) #specify waveband\n",
    "    ccd_curve = ccd_poly(fband) #create CCD efficiency polynomial in range\n",
    "    ccd_avgres = np.mean(ccd_curve) #take average\n",
    "    \n",
    "    #calculate energy of a single photon\n",
    "    h = 6.634e-34\n",
    "    c = 3e8\n",
    "    avgE = h*c/(mid*1e-10)\n",
    "\n",
    "    counts = flux_column[suitable][0] #extract flux in counts from SExtractor\n",
    "    gain = 1.4 #CCD gain e-/counts\n",
    "    electrons = counts*gain # e-\n",
    "    photons = electrons/ccd_avgres # photons\n",
    "    flux_tot = avgE*photons # J\n",
    "    flux_rate = flux_tot/exp_time # J/s (W)\n",
    "    #print(flux_rate)\n",
    "    measured_fluxes.append(flux_rate)"
   ]
  },
  {
   "cell_type": "code",
   "execution_count": 25,
   "metadata": {},
   "outputs": [
    {
     "name": "stdout",
     "output_type": "stream",
     "text": [
      "1.0914277104706379e-15 7.9565553171709185e-16 1.371733956421122\n",
      "1.0914277104706379e-15 7.871208344880912e-16 1.3866075736395091\n",
      "1.0914277104706379e-15 7.908460180343136e-16 1.380076128072864\n",
      "1.0914277104706379e-15 7.744455834201943e-16 1.409302001117433\n",
      "1.0914277104706379e-15 7.857643651942664e-16 1.3890012818293198\n",
      "1.0914277104706379e-15 7.76779663914441e-16 1.4050673069510917\n",
      "1.0914277104706379e-15 7.83859038885674e-16 1.3923775274980568\n",
      "1.0914277104706379e-15 7.891308838891272e-16 1.3830756503809365\n",
      "1.0914277104706379e-15 7.793921059021667e-16 1.400357666193298\n",
      "1.0914277104706379e-15 7.94414703954721e-16 1.3738765219693687\n"
     ]
    }
   ],
   "source": [
    "for i in range(0,len(measured_fluxes)):\n",
    "    print(theory_flux,measured_fluxes[i], theory_flux/measured_fluxes[i])"
   ]
  },
  {
   "cell_type": "code",
   "execution_count": null,
   "metadata": {},
   "outputs": [],
   "source": []
  },
  {
   "cell_type": "code",
   "execution_count": null,
   "metadata": {},
   "outputs": [],
   "source": []
  }
 ],
 "metadata": {
  "kernelspec": {
   "display_name": "Python 3",
   "language": "python",
   "name": "python3"
  },
  "language_info": {
   "codemirror_mode": {
    "name": "ipython",
    "version": 3
   },
   "file_extension": ".py",
   "mimetype": "text/x-python",
   "name": "python",
   "nbconvert_exporter": "python",
   "pygments_lexer": "ipython3",
   "version": "3.6.5"
  }
 },
 "nbformat": 4,
 "nbformat_minor": 2
}
