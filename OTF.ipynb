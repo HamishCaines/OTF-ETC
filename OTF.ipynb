{
 "cells": [
  {
   "cell_type": "markdown",
   "metadata": {},
   "source": [
    "# ETC-OTF"
   ]
  },
  {
   "cell_type": "code",
   "execution_count": 1,
   "metadata": {},
   "outputs": [],
   "source": [
    "from astroquery.simbad import Simbad\n",
    "import numpy as np\n",
    "from PyAstronomy import pyasl\n",
    "import scipy.integrate as integ\n",
    "from scipy.stats import norm\n",
    "import matplotlib.pyplot as plt\n",
    "import math\n",
    "from random import gauss\n",
    "import os"
   ]
  },
  {
   "cell_type": "code",
   "execution_count": 2,
   "metadata": {},
   "outputs": [],
   "source": [
    "target_name = 'SA 92-508'\n",
    "camera_name = 'PL09000'\n",
    "pixel_width_m = 12\n",
    "plate_scale = 0.621\n",
    "pixel_width_as = pixel_width_m*plate_scale\n",
    "site_seeing = 3"
   ]
  },
  {
   "cell_type": "code",
   "execution_count": 3,
   "metadata": {},
   "outputs": [],
   "source": [
    "def find_nearest(arr, val):\n",
    "    arr = np.array(arr)\n",
    "    idx = (abs(arr-val)).argmin()\n",
    "    return idx"
   ]
  },
  {
   "cell_type": "markdown",
   "metadata": {},
   "source": [
    "Load list of spectral types and temperatures, B zero point, and standard filter data:"
   ]
  },
  {
   "cell_type": "code",
   "execution_count": 4,
   "metadata": {},
   "outputs": [],
   "source": [
    "table_types = np.genfromtxt('colour-temp.txt',unpack=True,usecols=(0),dtype='str') #load spectral types\n",
    "table_temps = np.genfromtxt('colour-temp.txt',unpack=True,usecols=(1)) #load corresponding temperatures\n",
    "\n",
    "B_zp = -20.45 #known zero point for B\n",
    "\n",
    "#standard filters, centres, widths, and zero points\n",
    "filters = ['U','B','V','R','I','J','H','K']\n",
    "centres = [3650,4450,5510,6580,8060,12200,16300,21900]\n",
    "widths = [660,940,880,1380,1490,2130,3070,3900]\n",
    "zeros = [-20.94,-20.45,-21.12,-21.61,-22.27,-23.80,-24.80,-26.00]"
   ]
  },
  {
   "cell_type": "code",
   "execution_count": 5,
   "metadata": {},
   "outputs": [],
   "source": [
    "files = os.listdir('./spectra/')\n",
    "temps = []\n",
    "for file in files:\n",
    "    temp = int(file.split('-')[0][3:])\n",
    "    temps.append(temp)\n",
    "temps = np.sort(temps)"
   ]
  },
  {
   "cell_type": "markdown",
   "metadata": {},
   "source": [
    "Extract data from Simbad for target:"
   ]
  },
  {
   "cell_type": "code",
   "execution_count": 6,
   "metadata": {},
   "outputs": [
    {
     "name": "stdout",
     "output_type": "stream",
     "text": [
      "SA 92-508\n"
     ]
    }
   ],
   "source": [
    "#create new Simbad with Bmag and spectral type\n",
    "custom_sim = Simbad()\n",
    "custom_sim.add_votable_fields('flux(B)','sp')\n",
    "#Simbad.list_votable_fields()\n",
    "print(target_name)\n",
    "data = custom_sim.query_object(target_name) #extract data table from Simbad\n",
    "#print(data)\n",
    "Bmag = data[0]['FLUX_B'] #extract Bmag from table\n",
    "Bflux = 1/(10**((Bmag-B_zp)/2.5)) #calculate correspinding flux using known B zero point ###NOT NEEDED?"
   ]
  },
  {
   "cell_type": "markdown",
   "metadata": {},
   "source": [
    "Define polynomial that describes proportionality constant between calculated and actual zero points for a range of wavelengths:"
   ]
  },
  {
   "cell_type": "code",
   "execution_count": 11,
   "metadata": {},
   "outputs": [
    {
     "data": {
      "image/png": "[encoded data removed]",
      "text/plain": [
       "<Figure size 432x288 with 1 Axes>"
      ]
     },
     "metadata": {},
     "output_type": "display_data"
    }
   ],
   "source": [
    "sp = str(data[0]['SP_TYPE'])[2:4] #obtain 2-character spectral type from data table\n",
    "temp_val = table_temps[np.where(table_types == sp+'V')[0][0]]#convert spectral type to tempterature using lookup table\n",
    "#lookup table only has V spectral classes, so add V as an approximation\n",
    "\n",
    "t_index = find_nearest(temps,temp_val)\n",
    "for file in files:\n",
    "    if np.int(file.split('-')[0][3:]) == np.int(temps[t_index]):\n",
    "        spectrum_file = file\n",
    "\n",
    "wave, SED = np.genfromtxt('./spectra/'+spectrum_file,unpack=True,usecols=(0,1))\n",
    "wave *= 1e4 # convert to \\AA\n",
    "wave *= 1e-10 # convert to m\n",
    "SED *= 10/1e-6 #convert to W/m^2/m\n",
    "\n",
    "#planck = pyasl.planck(temp_val,lam=old_wave) #define planck function from temperature\n",
    "\n",
    "alphas=[] #initialise array of alphas\n",
    "order = 3 #order of polynomial to use, determined by analysis in alpha.ipynb\n",
    "for i in range(0,len(filters)): #loop across filters\n",
    "    loop_band = np.zeros(len(wave)) #new zeros\n",
    "    #determine edges of each waveband\n",
    "    loop_band_min = (centres[i] - widths[i]/2)*1e-10 \n",
    "    loop_band_max = (centres[i] + widths[i]/2)*1e-10\n",
    "    #find corresponding indexes\n",
    "    loop_start_index = (np.abs(wave - loop_band_min)).argmin()\n",
    "    loop_end_index = (np.abs(wave - loop_band_max)).argmin()\n",
    "\n",
    "    #set values within indexes to one\n",
    "    for j in range(loop_start_index, loop_end_index):\n",
    "        loop_band[j] = 1.0\n",
    "\n",
    "    loop_trans = SED*loop_band #find transmission in each standard filter\n",
    "    loop_flux = integ.simps(loop_trans, wave, dx=10e-10) #find total flux in each standard filter\n",
    "    z_calc = 2.5*math.log10(loop_flux) #find zero point\n",
    "    new_alpha = zeros[i]/z_calc #find proportionalty between calculated zero and known zero\n",
    "    alphas.append(new_alpha) #add to array\n",
    "poly = np.poly1d(np.polyfit(centres,alphas,order)) #fit polynomial to the alpha values\n",
    "\n",
    "#plt.plot(old_wave*1e10,planck)\n",
    "plt.plot(wave*1e10, SED)\n",
    "plt.xlim(0,25000)\n",
    "plt.show()"
   ]
  },
  {
   "cell_type": "markdown",
   "metadata": {},
   "source": [
    "Define waveband for target filter:"
   ]
  },
  {
   "cell_type": "code",
   "execution_count": 12,
   "metadata": {},
   "outputs": [],
   "source": [
    "Fmid = 6200 #desired filter centre\n",
    "Fwidth = 1240 #desired filter width\n",
    "\n",
    "old_wave = np.arange(10e-10, 25000e-10,10e-10) #initialise wavelength range\n",
    "\n",
    "band = np.zeros(len(wave)) #create zeros\n",
    "#determine edges of waveband\n",
    "band_min = (Fmid - Fwidth/2)*1e-10\n",
    "band_max = (Fmid + Fwidth/2)*1e-10\n",
    "#find corresponding indexes in array\n",
    "start_index = (np.abs(wave - band_min)).argmin()\n",
    "end_index = (np.abs(wave - band_max)).argmin()\n",
    "\n",
    "#set values within indexes to one\n",
    "for i in range(start_index, end_index):\n",
    "    band[i] = 1.0\n",
    "    "
   ]
  },
  {
   "cell_type": "markdown",
   "metadata": {},
   "source": [
    "Determine flux in waveband from SED and zero point for filter:"
   ]
  },
  {
   "cell_type": "code",
   "execution_count": 13,
   "metadata": {},
   "outputs": [
    {
     "name": "stdout",
     "output_type": "stream",
     "text": [
      "alpha: -1.2109878664412204\n"
     ]
    }
   ],
   "source": [
    "alpha = poly(Fmid) #find alpha for given filter centre\n",
    "print('alpha: '+str(alpha))\n",
    "\n",
    "trans = SED*band #find transmission in given filter\n",
    "flux = integ.simps(trans, wave, dx=10e-10) #find total flux\n",
    "z_calc = 2.5*math.log10(flux) #calculate zero point\n",
    "zp = alpha*z_calc #use correction to obtain actual zero point"
   ]
  },
  {
   "cell_type": "markdown",
   "metadata": {},
   "source": [
    "Repeat process to find band flux for B filter:"
   ]
  },
  {
   "cell_type": "code",
   "execution_count": 14,
   "metadata": {},
   "outputs": [],
   "source": [
    "Bmid = 4450 #centre\n",
    "Bwidth = 940 #width\n",
    "\n",
    "Bband = np.zeros(len(wave)) #new zeros\n",
    "#find edges of band\n",
    "Bband_min = (Bmid - Bwidth/2)*1e-10\n",
    "Bband_max = (Bmid + Bwidth/2)*1e-10\n",
    "#find corresponding indexes\n",
    "Bstart_index = (np.abs(wave - Bband_min)).argmin()\n",
    "Bend_index = (np.abs(wave - Bband_max)).argmin()\n",
    "\n",
    "#set values within indexes to one\n",
    "for i in range(Bstart_index, Bend_index):\n",
    "    Bband[i] = 1.0\n",
    "    \n",
    "Btrans = SED*Bband #find band transmission\n",
    "Bflux_2 = integ.simps(Btrans, wave, dx=10e-10) #integrate to get flux in band\n",
    "#Bmag_calc = -2.5*math.log10(Bflux) + B_zp\n",
    "#plt.plot(wave*1e10,trans,label='V')\n",
    "#plt.plot(wave*1e10,Btrans,label='B')\n",
    "#plt.legend()\n",
    "#plt.xlim(3000,7000)"
   ]
  },
  {
   "cell_type": "markdown",
   "metadata": {},
   "source": [
    "Evaluate equation: $m_X = m_B + 2.5\\log\\frac{F_B}{F_X} - \\Delta zp$\n",
    "\n",
    "where: $\\Delta zp = zp_B - zp_X$\n",
    "\n",
    "Then convert to $m_X$ to $F_X$"
   ]
  },
  {
   "cell_type": "code",
   "execution_count": 15,
   "metadata": {},
   "outputs": [
    {
     "data": {
      "text/plain": [
       "1.074031105718324e-14"
      ]
     },
     "execution_count": 15,
     "metadata": {},
     "output_type": "execute_result"
    }
   ],
   "source": [
    "BfoFf = Bflux_2/flux #calculate ratio of flux in B and flux in filter\n",
    "Dzp = B_zp - zp #delta zero points\n",
    "Fmag = Bmag + 2.5*math.log10(BfoFf) - Dzp #calcualte magnitude in filter\n",
    "\n",
    "scaled_Fflux = 10**((zp - Fmag)/2.5) #convert to flux\n",
    "\n",
    "telescope_eff = 0.96*0.96*(1-0.005)\n",
    "rec_flux = scaled_Fflux*telescope_eff\n",
    "\n",
    "telescope_r = 0.305\n",
    "telescope_area = np.pi*telescope_r*telescope_r\n",
    "telescope_obs = 0.47\n",
    "\n",
    "rec_flux = rec_flux*telescope_area*telescope_obs\n",
    "rec_flux"
   ]
  },
  {
   "cell_type": "code",
   "execution_count": 16,
   "metadata": {},
   "outputs": [
    {
     "name": "stdout",
     "output_type": "stream",
     "text": [
      "6.85205867432844e-15\n"
     ]
    }
   ],
   "source": [
    "ccd_poly_coef = np.genfromtxt('./CCD-effs/'+camera_name+'.poly',usecols=(1))\n",
    "filter_wave, trans = np.genfromtxt('Sloanr\\'20s.dat',unpack=True,skip_header=(3))\n",
    "ccd_poly = np.poly1d(ccd_poly_coef)\n",
    "ccd_res_curve = ccd_poly(wave)\n",
    "ccd_res_band = ccd_res_curve[start_index:end_index]\n",
    "ccd_res = np.mean(ccd_res_band)\n",
    "ccd_flux = rec_flux*ccd_res\n",
    "print(ccd_flux)\n",
    "\n",
    "#plt.plot(filter_wave*1e10,trans)\n",
    "#plt.plot(filter_wave*1e10,ccd_res_curve)\n",
    "#plt.ylim(0,1)\n",
    "#plt.xlim(3600,11000)\n",
    "#plt.plot(filter_wave*1e10,trans*ccd_res_curve)\n",
    "#plt.show()\n",
    "\n",
    "#tot_flux_curve = trans*ccd_res_curve*rec_flux\n",
    "#total_flux = integ.simps(tot_flux_curve, filter_wave, dx=20e-10)\n",
    "\n",
    "#det_flux = tot_eff\n",
    "#total_flux"
   ]
  },
  {
   "cell_type": "markdown",
   "metadata": {},
   "source": [
    "Volume under a 2D Gaussian: $V = 2\\pi A\\sigma_x\\sigma_y$, where $A$ is the amplitude of the Gaussian, and $\\sigma_x$ and $\\sigma_y$ are based on the seeing, and are hence the same value. Re-arranging gives: $A = \\frac V{2\\pi\\sigma_x\\sigma_y}$"
   ]
  },
  {
   "cell_type": "code",
   "execution_count": 17,
   "metadata": {},
   "outputs": [
    {
     "data": {
      "text/plain": [
       "4.230626711194576e-15"
      ]
     },
     "execution_count": 17,
     "metadata": {},
     "output_type": "execute_result"
    }
   ],
   "source": [
    "total_flux = ccd_flux\n",
    "gauss_amp = total_flux/(2*np.pi*site_seeing*site_seeing)\n",
    "def integrand(x, y, A, sigma):\n",
    "    return A*np.exp(-1/(2*sigma*sigma)*(x*x+y*y))\n",
    "I = integ.dblquad(integrand,-pixel_width_as/2,pixel_width_as/2,-pixel_width_as/2,pixel_width_as/2, args=(gauss_amp,site_seeing))[0]\n",
    "I"
   ]
  },
  {
   "cell_type": "markdown",
   "metadata": {},
   "source": [
    "Convert flux on a single pixel back into number of electrons/counts as required, and then calculate maximum time, this cell uses a coefficient from the coeff_finder.ipynb:"
   ]
  },
  {
   "cell_type": "code",
   "execution_count": 20,
   "metadata": {},
   "outputs": [
    {
     "data": {
      "text/plain": [
       "7.483156457066048"
      ]
     },
     "execution_count": 20,
     "metadata": {},
     "output_type": "execute_result"
    }
   ],
   "source": [
    "coefficient = 0.572 # obtained from coeff_finder.ipynb\n",
    "gain = 1.4 # e-/counts\n",
    "actual = I/coefficient # J/s\n",
    "h = 6.634e-34\n",
    "c = 3e8\n",
    "avgE = h*c/(Fmid*1e-10) #average energy of a photon in the band\n",
    "\n",
    "max_electrons = 110000 # e-\n",
    "\n",
    "photon_rate = actual/avgE # per s\n",
    "electron_rate = photon_rate*ccd_res #e-/s\n",
    "#count_rate = electron_rate/gain #count/s\n",
    "time = max_electrons/electron_rate # s\n",
    "time #max time"
   ]
  },
  {
   "cell_type": "code",
   "execution_count": null,
   "metadata": {},
   "outputs": [],
   "source": []
  },
  {
   "cell_type": "code",
   "execution_count": null,
   "metadata": {},
   "outputs": [],
   "source": []
  }
 ],
 "metadata": {
  "kernelspec": {
   "display_name": "Python 3",
   "language": "python",
   "name": "python3"
  },
  "language_info": {
   "codemirror_mode": {
    "name": "ipython",
    "version": 3
   },
   "file_extension": ".py",
   "mimetype": "text/x-python",
   "name": "python",
   "nbconvert_exporter": "python",
   "pygments_lexer": "ipython3",
   "version": "3.6.5"
  }
 },
 "nbformat": 4,
 "nbformat_minor": 2
}
